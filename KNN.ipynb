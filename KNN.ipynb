{
 "cells": [
  {
   "cell_type": "code",
   "execution_count": 62,
   "id": "a9ca3294-c1a4-4e8b-871c-2c810e5d6622",
   "metadata": {},
   "outputs": [
    {
     "name": "stdout",
     "output_type": "stream",
     "text": [
      "MAE: 16.379347766463965\n",
      "MSE: 465.34375749116333\n",
      "R²: 0.3678492566186967\n"
     ]
    }
   ],
   "source": [
    "import pandas as pd\n",
    "import numpy as np\n",
    "from sklearn.preprocessing import StandardScaler\n",
    "from sklearn.model_selection import train_test_split\n",
    "from sklearn.neighbors import KNeighborsRegressor\n",
    "from sklearn.metrics import mean_absolute_error, mean_squared_error, r2_score\n",
    "\n",
    "\n",
    "# Đọc dữ liệu từ file CSV\n",
    "data = pd.read_csv('ABNB_stock_data.csv')\n",
    "data['Date'] = pd.to_datetime(data['Date'], dayfirst=True)\n",
    "data.set_index('Date', inplace=True)\n",
    "\n",
    "# Tạo các đặc trưng lag và rolling mean\n",
    "data['Close_Lag1'] = data['Close'].shift(1)\n",
    "data['5_day_MA'] = data['Close'].rolling(window=5).mean()\n",
    "data = data.dropna()  # Loại bỏ các hàng có giá trị null\n",
    "\n",
    "# Chọn các tính năng (X) và mục tiêu (y)\n",
    "X = data[['Close_Lag1', '5_day_MA']]\n",
    "y = data['Close']\n",
    "\n",
    "\n",
    "\n",
    "\n",
    "\n",
    "\n",
    "\n",
    "\n",
    "y_pred = model.predict(X_test)\n",
    "mae = mean_absolute_error(y_test, y_pred)\n",
    "mse = mean_squared_error(y_test, y_pred)\n",
    "r2 = r2_score(y_test, y_pred)\n",
    "\n",
    "print(f\"MAE: {mae}\")\n",
    "print(f\"MSE: {mse}\")\n",
    "print(f\"R²: {r2}\")"
   ]
  },
  {
   "cell_type": "code",
   "execution_count": null,
   "id": "280a90eb-e911-479b-9a48-ac7eca81abad",
   "metadata": {},
   "outputs": [],
   "source": [
    "\n",
    "scaler = StandardScaler()\n",
    "X_scaled = scaler.fit_transform(X)\n",
    "\n",
    "X_train, X_test, y_train, y_test = train_test_split(X_scaled, y, test_size=0.349, shuffle=False)"
   ]
  },
  {
   "cell_type": "code",
   "execution_count": null,
   "id": "9dcdc9a5-9247-415b-ba46-6d3ddf7c627e",
   "metadata": {},
   "outputs": [],
   "source": [
    "#Train model\n",
    "model = KNeighborsRegressor(n_neighbors=15, metric='minkowski')\n",
    "model.fit(X_train, y_train)"
   ]
  }
 ],
 "metadata": {
  "kernelspec": {
   "display_name": "Python 3 (ipykernel)",
   "language": "python",
   "name": "python3"
  },
  "language_info": {
   "codemirror_mode": {
    "name": "ipython",
    "version": 3
   },
   "file_extension": ".py",
   "mimetype": "text/x-python",
   "name": "python",
   "nbconvert_exporter": "python",
   "pygments_lexer": "ipython3",
   "version": "3.12.4"
  }
 },
 "nbformat": 4,
 "nbformat_minor": 5
}
