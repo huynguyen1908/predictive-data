{
 "cells": [
  {
   "cell_type": "code",
   "execution_count": 2,
   "id": "c0e59f08-1764-464e-906d-b870c9bc98e8",
   "metadata": {},
   "outputs": [],
   "source": [
    "import pandas as pd\n",
    "import numpy as np\n",
    "from sklearn.ensemble import RandomForestRegressor\n",
    "from sklearn.model_selection import train_test_split\n",
    "from sklearn.metrics import mean_absolute_error, mean_squared_error, r2_score"
   ]
  },
  {
   "cell_type": "code",
   "execution_count": 3,
   "id": "92dcb385-fca0-450a-9781-378d566bcaa1",
   "metadata": {},
   "outputs": [],
   "source": [
    "# Load stock data (example: CSV with columns 'Date', 'Open', 'High', 'Low', 'Close', 'Volume')\n",
    "data = pd.read_csv('ABNB_stock_data.csv')\n",
    "\n",
    "# Feature engineering\n",
    "data['Close_Lag_1'] = data['Close'].shift(1)\n",
    "data['Close_Lag_2'] = data['Close'].shift(2)\n",
    "data['Moving_Avg_5'] = data['Close'].rolling(window=5).mean()\n",
    "\n",
    "# Drop rows with missing values\n",
    "data.dropna(inplace=True)\n",
    "\n",
    "# Features (X) and target (y)\n",
    "X = data[['Close_Lag_1', 'Close_Lag_2', 'Moving_Avg_5', 'Volume']]\n",
    "y = data['Close']\n",
    "\n",
    "# Train-test split\n",
    "X_train, X_test, y_train, y_test = train_test_split(X, y, test_size=0.35, shuffle=False)"
   ]
  },
  {
   "cell_type": "code",
   "execution_count": 4,
   "id": "acc83eae-dc34-44ce-b138-c448d2478ae5",
   "metadata": {},
   "outputs": [],
   "source": [
    "# Random Forest model\n",
    "model = RandomForestRegressor(n_estimators=100, random_state=42)\n",
    "model.fit(X_train, y_train)\n",
    "y_pred = model.predict(X_test)"
   ]
  },
  {
   "cell_type": "code",
   "execution_count": 5,
   "id": "62a73cc3-b29f-446e-9876-02ff974c9f87",
   "metadata": {},
   "outputs": [
    {
     "name": "stdout",
     "output_type": "stream",
     "text": [
      "Random Forest MAE: 18.2086\n",
      "Random Forest MSE: 568.2829\n",
      "Random Forest R²: 0.2280\n"
     ]
    }
   ],
   "source": [
    "# Evaluate the model\n",
    "mae = mean_absolute_error(y_test, y_pred)\n",
    "mse = mean_squared_error(y_test, y_pred)\n",
    "r2 = r2_score(y_test, y_pred)\n",
    "\n",
    "print(f'Random Forest MAE: {mae:.4f}')\n",
    "print(f'Random Forest MSE: {mse:.4f}')\n",
    "print(f'Random Forest R²: {r2:.4f}')"
   ]
  }
 ],
 "metadata": {
  "kernelspec": {
   "display_name": "Python 3 (ipykernel)",
   "language": "python",
   "name": "python3"
  },
  "language_info": {
   "codemirror_mode": {
    "name": "ipython",
    "version": 3
   },
   "file_extension": ".py",
   "mimetype": "text/x-python",
   "name": "python",
   "nbconvert_exporter": "python",
   "pygments_lexer": "ipython3",
   "version": "3.12.4"
  }
 },
 "nbformat": 4,
 "nbformat_minor": 5
}
